{
 "cells": [
  {
   "cell_type": "code",
   "execution_count": 13,
   "metadata": {},
   "outputs": [],
   "source": [
    "import base64\n",
    "import requests\n",
    "import datetime"
   ]
  },
  {
   "cell_type": "code",
   "execution_count": 32,
   "metadata": {},
   "outputs": [],
   "source": [
    "CLIENT_ID = '2490920ce5574a1a9b97a3e366c39dd3'\n",
    "CLIENT_SECRET = 'bfb4c438f0e742e3ab325f98a4b3b9dc'\n",
    "CLIENT_CREDS = f\"{CLIENT_ID}:{CLIENT_SECRET}\"\n",
    "CLIENT_CREDS_B64 = base64.b64encode(CLIENT_CREDS.encode())\n",
    "\n",
    "TOKEN_URL = \"https://accounts.spotify.com/api/token\"\n",
    "METHOD = \"POST\"\n",
    "TOKEN_DATA = {\"grant_type\":\"client_credentials\"}\n",
    "TOKEN_HEADERS = {\"Authorization\":f\"Basic {CLIENT_CREDS_B64.decode()}\"}"
   ]
  },
  {
   "cell_type": "code",
   "execution_count": 54,
   "metadata": {},
   "outputs": [],
   "source": [
    "r = requests.post(TOKEN_URL, data=TOKEN_DATA, headers=TOKEN_HEADERS)\n",
    "valid_request = r.status_code in range(200,299)"
   ]
  },
  {
   "cell_type": "code",
   "execution_count": 57,
   "metadata": {},
   "outputs": [],
   "source": [
    "if valid_request:\n",
    "    token_response_data = r.json()\n",
    "    now = datetime.datetime.now()\n",
    "    access_token = token_response_data['access_token']\n",
    "    expires_in = token_response_data['expires_in']\n",
    "    expires = now + datetime.timedelta(seconds=expires_in)\n",
    "    did_expire = expires < now"
   ]
  },
  {
   "cell_type": "code",
   "execution_count": null,
   "metadata": {},
   "outputs": [],
   "source": []
  }
 ],
 "metadata": {
  "kernelspec": {
   "display_name": "Python 3",
   "language": "python",
   "name": "python3"
  },
  "language_info": {
   "codemirror_mode": {
    "name": "ipython",
    "version": 3
   },
   "file_extension": ".py",
   "mimetype": "text/x-python",
   "name": "python",
   "nbconvert_exporter": "python",
   "pygments_lexer": "ipython3",
   "version": "3.8.5"
  }
 },
 "nbformat": 4,
 "nbformat_minor": 4
}
